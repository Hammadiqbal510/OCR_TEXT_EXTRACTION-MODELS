{
  "nbformat": 4,
  "nbformat_minor": 0,
  "metadata": {
    "kernelspec": {
      "language": "python",
      "display_name": "Python 3",
      "name": "python3"
    },
    "language_info": {
      "pygments_lexer": "ipython3",
      "nbconvert_exporter": "python",
      "version": "3.6.4",
      "file_extension": ".py",
      "codemirror_mode": {
        "name": "ipython",
        "version": 3
      },
      "name": "python",
      "mimetype": "text/x-python"
    },
    "colab": {
      "name": "OCR CRNN.ipynb",
      "provenance": [],
      "collapsed_sections": []
    },
    "widgets": {
      "application/vnd.jupyter.widget-state+json": {
        "2125ee945ee245218d1a791772cc9022": {
          "model_module": "@jupyter-widgets/controls",
          "model_name": "HBoxModel",
          "model_module_version": "1.5.0",
          "state": {
            "_view_name": "HBoxView",
            "_dom_classes": [],
            "_model_name": "HBoxModel",
            "_view_module": "@jupyter-widgets/controls",
            "_model_module_version": "1.5.0",
            "_view_count": null,
            "_view_module_version": "1.5.0",
            "box_style": "",
            "layout": "IPY_MODEL_4ca9ef3d16f042e2a10011934cdaebdc",
            "_model_module": "@jupyter-widgets/controls",
            "children": [
              "IPY_MODEL_43daeaabca184d268e2a8d445bfd2d87",
              "IPY_MODEL_a1e4039eb56e4d069c3192e99cf3f8f7",
              "IPY_MODEL_ce899cbc928a476690a23d65b5d27110"
            ]
          }
        },
        "4ca9ef3d16f042e2a10011934cdaebdc": {
          "model_module": "@jupyter-widgets/base",
          "model_name": "LayoutModel",
          "model_module_version": "1.2.0",
          "state": {
            "_view_name": "LayoutView",
            "grid_template_rows": null,
            "right": null,
            "justify_content": null,
            "_view_module": "@jupyter-widgets/base",
            "overflow": null,
            "_model_module_version": "1.2.0",
            "_view_count": null,
            "flex_flow": null,
            "width": null,
            "min_width": null,
            "border": null,
            "align_items": null,
            "bottom": null,
            "_model_module": "@jupyter-widgets/base",
            "top": null,
            "grid_column": null,
            "overflow_y": null,
            "overflow_x": null,
            "grid_auto_flow": null,
            "grid_area": null,
            "grid_template_columns": null,
            "flex": null,
            "_model_name": "LayoutModel",
            "justify_items": null,
            "grid_row": null,
            "max_height": null,
            "align_content": null,
            "visibility": null,
            "align_self": null,
            "height": null,
            "min_height": null,
            "padding": null,
            "grid_auto_rows": null,
            "grid_gap": null,
            "max_width": null,
            "order": null,
            "_view_module_version": "1.2.0",
            "grid_template_areas": null,
            "object_position": null,
            "object_fit": null,
            "grid_auto_columns": null,
            "margin": null,
            "display": null,
            "left": null
          }
        },
        "43daeaabca184d268e2a8d445bfd2d87": {
          "model_module": "@jupyter-widgets/controls",
          "model_name": "HTMLModel",
          "model_module_version": "1.5.0",
          "state": {
            "_view_name": "HTMLView",
            "style": "IPY_MODEL_202a934b2b6845dc8132948a021f2d31",
            "_dom_classes": [],
            "description": "",
            "_model_name": "HTMLModel",
            "placeholder": "​",
            "_view_module": "@jupyter-widgets/controls",
            "_model_module_version": "1.5.0",
            "value": "100%",
            "_view_count": null,
            "_view_module_version": "1.5.0",
            "description_tooltip": null,
            "_model_module": "@jupyter-widgets/controls",
            "layout": "IPY_MODEL_9046b374a6664e329a417f63e3034541"
          }
        },
        "a1e4039eb56e4d069c3192e99cf3f8f7": {
          "model_module": "@jupyter-widgets/controls",
          "model_name": "FloatProgressModel",
          "model_module_version": "1.5.0",
          "state": {
            "_view_name": "ProgressView",
            "style": "IPY_MODEL_1477bd71d0424b7cbdaa0b7b6c67045b",
            "_dom_classes": [],
            "description": "",
            "_model_name": "FloatProgressModel",
            "bar_style": "success",
            "max": 46830571,
            "_view_module": "@jupyter-widgets/controls",
            "_model_module_version": "1.5.0",
            "value": 46830571,
            "_view_count": null,
            "_view_module_version": "1.5.0",
            "orientation": "horizontal",
            "min": 0,
            "description_tooltip": null,
            "_model_module": "@jupyter-widgets/controls",
            "layout": "IPY_MODEL_ba1e212a8f1e444284a215c4f0a4d971"
          }
        },
        "ce899cbc928a476690a23d65b5d27110": {
          "model_module": "@jupyter-widgets/controls",
          "model_name": "HTMLModel",
          "model_module_version": "1.5.0",
          "state": {
            "_view_name": "HTMLView",
            "style": "IPY_MODEL_8dbf350f3e484444a72e4d3bce9e0b02",
            "_dom_classes": [],
            "description": "",
            "_model_name": "HTMLModel",
            "placeholder": "​",
            "_view_module": "@jupyter-widgets/controls",
            "_model_module_version": "1.5.0",
            "value": " 44.7M/44.7M [00:00&lt;00:00, 78.2MB/s]",
            "_view_count": null,
            "_view_module_version": "1.5.0",
            "description_tooltip": null,
            "_model_module": "@jupyter-widgets/controls",
            "layout": "IPY_MODEL_620de9547bbb4714898bca1b4afba2cc"
          }
        },
        "202a934b2b6845dc8132948a021f2d31": {
          "model_module": "@jupyter-widgets/controls",
          "model_name": "DescriptionStyleModel",
          "model_module_version": "1.5.0",
          "state": {
            "_view_name": "StyleView",
            "_model_name": "DescriptionStyleModel",
            "description_width": "",
            "_view_module": "@jupyter-widgets/base",
            "_model_module_version": "1.5.0",
            "_view_count": null,
            "_view_module_version": "1.2.0",
            "_model_module": "@jupyter-widgets/controls"
          }
        },
        "9046b374a6664e329a417f63e3034541": {
          "model_module": "@jupyter-widgets/base",
          "model_name": "LayoutModel",
          "model_module_version": "1.2.0",
          "state": {
            "_view_name": "LayoutView",
            "grid_template_rows": null,
            "right": null,
            "justify_content": null,
            "_view_module": "@jupyter-widgets/base",
            "overflow": null,
            "_model_module_version": "1.2.0",
            "_view_count": null,
            "flex_flow": null,
            "width": null,
            "min_width": null,
            "border": null,
            "align_items": null,
            "bottom": null,
            "_model_module": "@jupyter-widgets/base",
            "top": null,
            "grid_column": null,
            "overflow_y": null,
            "overflow_x": null,
            "grid_auto_flow": null,
            "grid_area": null,
            "grid_template_columns": null,
            "flex": null,
            "_model_name": "LayoutModel",
            "justify_items": null,
            "grid_row": null,
            "max_height": null,
            "align_content": null,
            "visibility": null,
            "align_self": null,
            "height": null,
            "min_height": null,
            "padding": null,
            "grid_auto_rows": null,
            "grid_gap": null,
            "max_width": null,
            "order": null,
            "_view_module_version": "1.2.0",
            "grid_template_areas": null,
            "object_position": null,
            "object_fit": null,
            "grid_auto_columns": null,
            "margin": null,
            "display": null,
            "left": null
          }
        },
        "1477bd71d0424b7cbdaa0b7b6c67045b": {
          "model_module": "@jupyter-widgets/controls",
          "model_name": "ProgressStyleModel",
          "model_module_version": "1.5.0",
          "state": {
            "_view_name": "StyleView",
            "_model_name": "ProgressStyleModel",
            "description_width": "",
            "_view_module": "@jupyter-widgets/base",
            "_model_module_version": "1.5.0",
            "_view_count": null,
            "_view_module_version": "1.2.0",
            "bar_color": null,
            "_model_module": "@jupyter-widgets/controls"
          }
        },
        "ba1e212a8f1e444284a215c4f0a4d971": {
          "model_module": "@jupyter-widgets/base",
          "model_name": "LayoutModel",
          "model_module_version": "1.2.0",
          "state": {
            "_view_name": "LayoutView",
            "grid_template_rows": null,
            "right": null,
            "justify_content": null,
            "_view_module": "@jupyter-widgets/base",
            "overflow": null,
            "_model_module_version": "1.2.0",
            "_view_count": null,
            "flex_flow": null,
            "width": null,
            "min_width": null,
            "border": null,
            "align_items": null,
            "bottom": null,
            "_model_module": "@jupyter-widgets/base",
            "top": null,
            "grid_column": null,
            "overflow_y": null,
            "overflow_x": null,
            "grid_auto_flow": null,
            "grid_area": null,
            "grid_template_columns": null,
            "flex": null,
            "_model_name": "LayoutModel",
            "justify_items": null,
            "grid_row": null,
            "max_height": null,
            "align_content": null,
            "visibility": null,
            "align_self": null,
            "height": null,
            "min_height": null,
            "padding": null,
            "grid_auto_rows": null,
            "grid_gap": null,
            "max_width": null,
            "order": null,
            "_view_module_version": "1.2.0",
            "grid_template_areas": null,
            "object_position": null,
            "object_fit": null,
            "grid_auto_columns": null,
            "margin": null,
            "display": null,
            "left": null
          }
        },
        "8dbf350f3e484444a72e4d3bce9e0b02": {
          "model_module": "@jupyter-widgets/controls",
          "model_name": "DescriptionStyleModel",
          "model_module_version": "1.5.0",
          "state": {
            "_view_name": "StyleView",
            "_model_name": "DescriptionStyleModel",
            "description_width": "",
            "_view_module": "@jupyter-widgets/base",
            "_model_module_version": "1.5.0",
            "_view_count": null,
            "_view_module_version": "1.2.0",
            "_model_module": "@jupyter-widgets/controls"
          }
        },
        "620de9547bbb4714898bca1b4afba2cc": {
          "model_module": "@jupyter-widgets/base",
          "model_name": "LayoutModel",
          "model_module_version": "1.2.0",
          "state": {
            "_view_name": "LayoutView",
            "grid_template_rows": null,
            "right": null,
            "justify_content": null,
            "_view_module": "@jupyter-widgets/base",
            "overflow": null,
            "_model_module_version": "1.2.0",
            "_view_count": null,
            "flex_flow": null,
            "width": null,
            "min_width": null,
            "border": null,
            "align_items": null,
            "bottom": null,
            "_model_module": "@jupyter-widgets/base",
            "top": null,
            "grid_column": null,
            "overflow_y": null,
            "overflow_x": null,
            "grid_auto_flow": null,
            "grid_area": null,
            "grid_template_columns": null,
            "flex": null,
            "_model_name": "LayoutModel",
            "justify_items": null,
            "grid_row": null,
            "max_height": null,
            "align_content": null,
            "visibility": null,
            "align_self": null,
            "height": null,
            "min_height": null,
            "padding": null,
            "grid_auto_rows": null,
            "grid_gap": null,
            "max_width": null,
            "order": null,
            "_view_module_version": "1.2.0",
            "grid_template_areas": null,
            "object_position": null,
            "object_fit": null,
            "grid_auto_columns": null,
            "margin": null,
            "display": null,
            "left": null
          }
        }
      }
    }
  },
  "cells": [
    {
      "cell_type": "code",
      "metadata": {
        "trusted": true,
        "id": "JzXEcyX7juoV"
      },
      "source": [
        "import glob\n",
        "import os \n",
        "import string\n",
        "from pathlib import Path\n",
        "\n",
        "from PIL import Image\n",
        "import numpy as np\n",
        "import torch\n",
        "import torch.nn as nn\n",
        "import torch.nn.functional as F\n",
        "from torch.utils.data import DataLoader, Dataset\n",
        "from torchvision import transforms\n",
        "from torchvision.models import resnet18\n",
        "import matplotlib.pyplot as plt\n",
        "import collections\n",
        "\n",
        "from IPython.display import clear_output\n",
        "%matplotlib inline\n",
        "plt.style.use('seaborn')"
      ],
      "execution_count": null,
      "outputs": []
    },
    {
      "cell_type": "code",
      "metadata": {
        "trusted": true,
        "colab": {
          "base_uri": "https://localhost:8080/"
        },
        "id": "O4wc60vtjuod",
        "outputId": "07c8e6fc-55e9-456b-9c79-6d39a94f1776"
      },
      "source": [
        "device = torch.device('cuda' if torch.cuda.is_available() else 'cpu')\n",
        "torch.manual_seed(0)"
      ],
      "execution_count": null,
      "outputs": [
        {
          "output_type": "execute_result",
          "data": {
            "text/plain": [
              "<torch._C.Generator at 0x7f46f7d77a70>"
            ]
          },
          "metadata": {},
          "execution_count": 2
        }
      ]
    },
    {
      "cell_type": "code",
      "metadata": {
        "trusted": true,
        "id": "PBsbvvrBjuoe"
      },
      "source": [
        "def plot_loss(epoch: int, \n",
        "              train_losses: list, \n",
        "              val_losses: list, \n",
        "              n_steps: int = 100):\n",
        "    \n",
        "    # clear previous graph\n",
        "    clear_output(True)\n",
        "    # making titles\n",
        "    train_title = f'Epoch:{epoch} | Train Loss:{np.mean(train_losses[-n_steps:]):.6f}'\n",
        "    val_title = f'Epoch:{epoch} | Val Loss:{np.mean(val_losses[-n_steps:]):.6f}'\n",
        "\n",
        "    fig, ax = plt.subplots(1, 2, figsize=(12, 6))\n",
        "    ax[0].plot(train_losses)\n",
        "    ax[1].plot(val_losses)\n",
        "\n",
        "    ax[0].set_title(train_title)\n",
        "    ax[1].set_title(val_title)\n",
        "\n",
        "    plt.show()\n",
        "\n",
        "def print_prediction(model, dataset, device, label_converter):\n",
        "    idx = np.random.randint(len(dataset))\n",
        "    path = dataset.pathes[idx]\n",
        "    \n",
        "    with torch.no_grad():\n",
        "        model.eval()\n",
        "        img, target_text = dataset[idx]\n",
        "        img = img.unsqueeze(0)\n",
        "        logits = model(img.to(device))\n",
        "        \n",
        "    pred_text = decode_prediction(logits.cpu(), label_converter)\n",
        "\n",
        "    img = np.asarray(Image.open(path).convert('L'))\n",
        "    title = f'Truth: {target_text} | Pred: {pred_text}'\n",
        "    plt.imshow(img)\n",
        "    plt.title(title)\n",
        "    plt.axis('off');"
      ],
      "execution_count": null,
      "outputs": []
    },
    {
      "cell_type": "code",
      "metadata": {
        "trusted": true,
        "id": "0kc0mEzCjuof"
      },
      "source": [
        "class strLabelConverter(object):\n",
        "\n",
        "    def __init__(self, alphabet: str, ignore_case: bool = True):\n",
        "        self._ignore_case = ignore_case\n",
        "        if self._ignore_case:\n",
        "            alphabet = alphabet.lower()\n",
        "        self.alphabet = alphabet + '-'  # for `-1` index\n",
        "\n",
        "        self.char2idx = {}\n",
        "        for i, char in enumerate(alphabet):\n",
        "            self.char2idx[char] = i + 1\n",
        "        self.idx2char = {idx: char for char, idx in self.char2idx.items()}\n",
        "\n",
        "    def encode(self, text):\n",
        "        if isinstance(text, str):\n",
        "            text = [\n",
        "                self.char2idx[char.lower() if self._ignore_case else char]\n",
        "                for char in text\n",
        "            ]\n",
        "            length = [len(text)]\n",
        "        elif isinstance(text, collections.Iterable):\n",
        "            length = [len(s) for s in text]\n",
        "            text = ''.join(text)\n",
        "            text, _ = self.encode(text)\n",
        "        return (torch.IntTensor(text), torch.IntTensor(length))\n",
        "\n",
        "    def decode(self, t, length, raw=False):\n",
        "        if length.numel() == 1:\n",
        "            length = length[0]\n",
        "            assert t.numel() == length, \"text with length: {} does not match declared length: {}\".format(t.numel(), length)\n",
        "            if raw:\n",
        "                return ''.join([self.alphabet[i - 1] for i in t])\n",
        "            else:\n",
        "                char_list = []\n",
        "                for i in range(length):\n",
        "                    if t[i] != 0 and (not (i > 0 and t[i - 1] == t[i])):\n",
        "                        char_list.append(self.alphabet[t[i] - 1])\n",
        "                return ''.join(char_list)\n",
        "        else:\n",
        "            # batch mode\n",
        "            assert t.numel() == length.sum(), \"texts with length: {} does not match declared length: {}\".format(t.numel(), length.sum())\n",
        "            texts = []\n",
        "            index = 0\n",
        "            for i in range(length.numel()):\n",
        "                l = length[i]\n",
        "                texts.append(\n",
        "                    self.decode(\n",
        "                        t[index:index + l], torch.IntTensor([l]), raw=raw))\n",
        "                index += l\n",
        "        return texts\n",
        "\n",
        "\n",
        "def decode_prediction(logits: torch.Tensor, \n",
        "                      label_converter: strLabelConverter) -> str:\n",
        "    tokens = logits.softmax(2).argmax(2)\n",
        "    tokens = tokens.squeeze(1).numpy()\n",
        "    \n",
        "    # convert tor stings tokens\n",
        "    tokens = ''.join([label_converter.idx2char[token] \n",
        "                      if token != 0  else '-' \n",
        "                      for token in tokens])\n",
        "    tokens = tokens.split('-')\n",
        "    \n",
        "    # remove duplicates\n",
        "    text = [char \n",
        "            for batch_token in tokens \n",
        "            for idx, char in enumerate(batch_token)\n",
        "            if char != batch_token[idx-1] or len(batch_token) == 1]\n",
        "    text = ''.join(text)\n",
        "    return text"
      ],
      "execution_count": null,
      "outputs": []
    },
    {
      "cell_type": "code",
      "metadata": {
        "trusted": true,
        "id": "yvrkgUw7juoh"
      },
      "source": [
        "class blockCNN(nn.Module):\n",
        "    def __init__(self, in_nc, out_nc, kernel_size, padding, stride=1):\n",
        "        super(blockCNN, self).__init__()\n",
        "        self.in_nc = in_nc\n",
        "        self.out_nc = out_nc\n",
        "        self.kernel_size = kernel_size\n",
        "        self.padding = padding\n",
        "        # layers\n",
        "        self.conv = nn.Conv2d(in_nc, out_nc, \n",
        "                              kernel_size=kernel_size, \n",
        "                              stride=stride, \n",
        "                              padding=padding)\n",
        "        self.bn = nn.BatchNorm2d(out_nc)\n",
        "        \n",
        "    def forward(self, batch, use_bn=False, use_relu=False, \n",
        "                use_maxpool=False, maxpool_kernelsize=None):\n",
        "        batch = self.conv(batch)\n",
        "        if use_bn:\n",
        "            batch = self.bn(batch)\n",
        "        if use_relu:\n",
        "            batch = F.relu(batch)\n",
        "        if use_maxpool:\n",
        "            assert maxpool_kernelsize is not None\n",
        "            batch = F.max_pool2d(batch, kernel_size=maxpool_kernelsize, stride=2)\n",
        "        return batch\n",
        "\n",
        "class blockRNN(nn.Module):\n",
        "    def __init__(self, in_size, hidden_size, out_size, bidirectional, dropout=0):\n",
        "        super(blockRNN, self).__init__()\n",
        "        self.in_size = in_size\n",
        "        self.hidden_size = hidden_size\n",
        "        self.out_size = out_size\n",
        "        self.bidirectional = bidirectional\n",
        "        # layers\n",
        "        self.gru = nn.GRU(in_size, hidden_size, bidirectional=bidirectional)\n",
        "        \n",
        "    def forward(self, batch, add_output=False):\n",
        "        batch_size = batch.size(1)\n",
        "        outputs, hidden = self.gru(batch)\n",
        "        out_size = int(outputs.size(2) / 2)\n",
        "        if add_output:\n",
        "            outputs = outputs[:, :, :out_size] + outputs[:, :, out_size:]\n",
        "        return outputs"
      ],
      "execution_count": null,
      "outputs": []
    },
    {
      "cell_type": "markdown",
      "metadata": {
        "id": "CQmCmrlpjuoi"
      },
      "source": [
        "## <center>  Dataset"
      ]
    },
    {
      "cell_type": "code",
      "metadata": {
        "trusted": true,
        "id": "7i5__Cq8juol"
      },
      "source": [
        "class CaptchaDataset(Dataset):\n",
        "    def __init__(self, img_dir: str):\n",
        "        pathes = os.listdir(img_dir)\n",
        "        abspath = os.path.abspath(img_dir)\n",
        "        self.img_dir = img_dir\n",
        "        self.pathes = [os.path.join(abspath, path) for path in pathes]\n",
        "        self.list_transforms = transforms.Compose([transforms.ToTensor()])\n",
        "        \n",
        "    def __len__(self):\n",
        "        return len(self.pathes)\n",
        "    \n",
        "    def __getitem__(self, idx):\n",
        "        path = self.pathes[idx]\n",
        "        text = self.get_filename(path)\n",
        "        img = Image.open(path).convert('RGB')\n",
        "        img = self.transform(img)\n",
        "        return img, text\n",
        "    \n",
        "    def get_filename(self, path: str) -> str:\n",
        "        return os.path.basename(path).split('.')[0].lower().strip()\n",
        "    \n",
        "    def transform(self, img) -> torch.Tensor:\n",
        "        return self.list_transforms(img)"
      ],
      "execution_count": null,
      "outputs": []
    },
    {
      "cell_type": "markdown",
      "metadata": {
        "id": "mVIvuuJBjuom"
      },
      "source": [
        "## <center> Dataset Params"
      ]
    },
    {
      "cell_type": "code",
      "metadata": {
        "colab": {
          "base_uri": "https://localhost:8080/"
        },
        "id": "f3qDcETNoEqM",
        "outputId": "ee836aca-6b6e-4f0d-9648-1c423d04a4e5"
      },
      "source": [
        "from google.colab import drive\n",
        "drive.mount('/content/drive')"
      ],
      "execution_count": null,
      "outputs": [
        {
          "output_type": "stream",
          "name": "stdout",
          "text": [
            "Drive already mounted at /content/drive; to attempt to forcibly remount, call drive.mount(\"/content/drive\", force_remount=True).\n"
          ]
        }
      ]
    },
    {
      "cell_type": "code",
      "metadata": {
        "trusted": true,
        "id": "TxQLkv5Gjuon"
      },
      "source": [
        "TRAIN_DIR = Path('/content/drive/MyDrive/data-ocr/train')\n",
        "VAL_DIR = Path('/content/drive/MyDrive/data-ocr/val')\n",
        "BATCH_SIZE = 8\n",
        "N_WORKERS = 4"
      ],
      "execution_count": null,
      "outputs": []
    },
    {
      "cell_type": "code",
      "metadata": {
        "trusted": true,
        "id": "rrLwMM50juoo",
        "colab": {
          "base_uri": "https://localhost:8080/",
          "height": 35
        },
        "outputId": "795ed82c-754a-4f2e-be37-cfb3cba2aa14"
      },
      "source": [
        "alphabet = string.ascii_lowercase + string.digits\n",
        "label_converter = strLabelConverter(alphabet)\n",
        "alphabet"
      ],
      "execution_count": null,
      "outputs": [
        {
          "output_type": "execute_result",
          "data": {
            "application/vnd.google.colaboratory.intrinsic+json": {
              "type": "string"
            },
            "text/plain": [
              "'abcdefghijklmnopqrstuvwxyz0123456789'"
            ]
          },
          "metadata": {},
          "execution_count": 10
        }
      ]
    },
    {
      "cell_type": "code",
      "metadata": {
        "trusted": true,
        "id": "WMS4WELejuoo",
        "colab": {
          "base_uri": "https://localhost:8080/"
        },
        "outputId": "f7a52ce1-3f40-4eca-b2cf-e2b15002cf14"
      },
      "source": [
        "train_dataset = CaptchaDataset(TRAIN_DIR)\n",
        "val_dataset = CaptchaDataset(VAL_DIR)\n",
        "train_dataloader = DataLoader(train_dataset, batch_size=BATCH_SIZE, \n",
        "                              num_workers=N_WORKERS, shuffle=True)\n",
        "val_dataloader = DataLoader(val_dataset, batch_size=BATCH_SIZE, \n",
        "                            num_workers=N_WORKERS, shuffle=False)"
      ],
      "execution_count": null,
      "outputs": [
        {
          "output_type": "stream",
          "name": "stderr",
          "text": [
            "/usr/local/lib/python3.7/dist-packages/torch/utils/data/dataloader.py:481: UserWarning: This DataLoader will create 4 worker processes in total. Our suggested max number of worker in current system is 2, which is smaller than what this DataLoader is going to create. Please be aware that excessive worker creation might get DataLoader running slow or even freeze, lower the worker number to avoid potential slowness/freeze if necessary.\n",
            "  cpuset_checked))\n"
          ]
        }
      ]
    },
    {
      "cell_type": "code",
      "metadata": {
        "trusted": true,
        "id": "bpOaXoZ8juop",
        "colab": {
          "base_uri": "https://localhost:8080/"
        },
        "outputId": "da187f6e-a9e0-4f31-b9c5-fddbe2c599b8"
      },
      "source": [
        "imgs, texts = iter(val_dataloader).next()\n",
        "print(imgs.shape, len(texts))"
      ],
      "execution_count": null,
      "outputs": [
        {
          "output_type": "stream",
          "name": "stderr",
          "text": [
            "/usr/local/lib/python3.7/dist-packages/torch/utils/data/dataloader.py:481: UserWarning: This DataLoader will create 4 worker processes in total. Our suggested max number of worker in current system is 2, which is smaller than what this DataLoader is going to create. Please be aware that excessive worker creation might get DataLoader running slow or even freeze, lower the worker number to avoid potential slowness/freeze if necessary.\n",
            "  cpuset_checked))\n"
          ]
        },
        {
          "output_type": "stream",
          "name": "stdout",
          "text": [
            "torch.Size([8, 3, 50, 200]) 8\n"
          ]
        }
      ]
    },
    {
      "cell_type": "markdown",
      "metadata": {
        "id": "_3e46TyIjuop"
      },
      "source": [
        "## <center> Model"
      ]
    },
    {
      "cell_type": "code",
      "metadata": {
        "trusted": true,
        "id": "lNa8qOlOjuoq"
      },
      "source": [
        "def weights_init(m):\n",
        "    classname = m.__class__.__name__\n",
        "    if type(m) in [nn.Linear, nn.Conv2d, nn.Conv1d]:\n",
        "        torch.nn.init.xavier_uniform_(m.weight)\n",
        "        m.bias.data.fill_(0.01)\n",
        "    elif classname.find('BatchNorm') != -1:\n",
        "        m.weight.data.normal_(1.0, 0.02)\n",
        "        m.bias.data.fill_(0)"
      ],
      "execution_count": null,
      "outputs": []
    },
    {
      "cell_type": "code",
      "metadata": {
        "trusted": true,
        "id": "I5ZCDq3-juoq"
      },
      "source": [
        "class CRNN(nn.Module):\n",
        "    def __init__(self, hidden_size: int, \n",
        "                 vocab_size: int, \n",
        "                 bidirectional: bool = True, \n",
        "                 dropout: float = 0.5):\n",
        "        super(CRNN, self).__init__()\n",
        "        self.hidden_size = hidden_size\n",
        "        self.vocab_size = vocab_size\n",
        "        self.bidirectional = bidirectional\n",
        "        # make layers\n",
        "        # convolutions \n",
        "        resnet = resnet18(pretrained=True)\n",
        "        modules = list(resnet.children())[:-3]\n",
        "        self.resnet = nn.Sequential(*modules)\n",
        "        #PRETRAINED^\n",
        "        \n",
        "        \n",
        "        \n",
        "        self.cn6 = blockCNN(256, 256, kernel_size=3, padding=1)\n",
        "        # RNN + Linear\n",
        "        self.linear1 = nn.Linear(1024, 256)\n",
        "        self.gru1 = blockRNN(256, hidden_size, hidden_size,\n",
        "                             dropout=dropout, \n",
        "                             bidirectional=bidirectional)\n",
        "        self.gru2 = blockRNN(hidden_size, hidden_size, vocab_size,\n",
        "                             dropout=dropout,\n",
        "                             bidirectional=bidirectional)\n",
        "        self.linear2 = nn.Linear(hidden_size * 2, vocab_size)\n",
        "        \n",
        "    def forward(self, batch: torch.Tensor):\n",
        "        batch_size = batch.size(0)\n",
        "        # convolutions\n",
        "        batch = self.resnet(batch)\n",
        "        batch = self.cn6(batch, use_relu=True, use_bn=True)\n",
        "        # make sequences of image features\n",
        "        batch = batch.permute(0, 3, 1, 2)\n",
        "        n_channels = batch.size(1)\n",
        "        batch = batch.view(batch_size, n_channels, -1)\n",
        "        batch = self.linear1(batch)\n",
        "        # rnn layers\n",
        "        batch = self.gru1(batch, add_output=True)\n",
        "        batch = self.gru2(batch)\n",
        "        # output\n",
        "        batch = self.linear2(batch)\n",
        "        batch = batch.permute(1, 0, 2)\n",
        "        return batch"
      ],
      "execution_count": null,
      "outputs": []
    },
    {
      "cell_type": "markdown",
      "metadata": {
        "id": "QkKfz081juor"
      },
      "source": [
        "## <center>  Model Parameters and Initialization"
      ]
    },
    {
      "cell_type": "code",
      "metadata": {
        "trusted": true,
        "id": "5FqKsQ4xjuos",
        "colab": {
          "base_uri": "https://localhost:8080/"
        },
        "outputId": "cfb49725-56ee-4f10-f2e6-741edf6dbddd"
      },
      "source": [
        "hidden_size = 256\n",
        "vocab_size = len(alphabet) + 1 # extra character for blank symbol\n",
        "bidirectional = True\n",
        "dropout = 0.1\n",
        "weight_decay = 1e-5\n",
        "momentum = 0.9\n",
        "clip_norm = 5\n",
        "max_epoch = 50\n",
        "print(vocab_size)"
      ],
      "execution_count": null,
      "outputs": [
        {
          "output_type": "stream",
          "name": "stdout",
          "text": [
            "37\n"
          ]
        }
      ]
    },
    {
      "cell_type": "code",
      "metadata": {
        "trusted": true,
        "id": "xT_OxkZ_juos",
        "colab": {
          "base_uri": "https://localhost:8080/",
          "height": 137,
          "referenced_widgets": [
            "2125ee945ee245218d1a791772cc9022",
            "4ca9ef3d16f042e2a10011934cdaebdc",
            "43daeaabca184d268e2a8d445bfd2d87",
            "a1e4039eb56e4d069c3192e99cf3f8f7",
            "ce899cbc928a476690a23d65b5d27110",
            "202a934b2b6845dc8132948a021f2d31",
            "9046b374a6664e329a417f63e3034541",
            "1477bd71d0424b7cbdaa0b7b6c67045b",
            "ba1e212a8f1e444284a215c4f0a4d971",
            "8dbf350f3e484444a72e4d3bce9e0b02",
            "620de9547bbb4714898bca1b4afba2cc"
          ]
        },
        "outputId": "1bad3d2c-981e-4b7f-ec0a-40da075157b0"
      },
      "source": [
        "crnn = CRNN(hidden_size=hidden_size, vocab_size=vocab_size, \n",
        "            bidirectional=bidirectional, dropout=dropout).to(device)\n",
        "crnn(imgs.to(device)).shape"
      ],
      "execution_count": null,
      "outputs": [
        {
          "output_type": "stream",
          "name": "stderr",
          "text": [
            "Downloading: \"https://download.pytorch.org/models/resnet18-f37072fd.pth\" to /root/.cache/torch/hub/checkpoints/resnet18-f37072fd.pth\n"
          ]
        },
        {
          "output_type": "display_data",
          "data": {
            "application/vnd.jupyter.widget-view+json": {
              "model_id": "2125ee945ee245218d1a791772cc9022",
              "version_minor": 0,
              "version_major": 2
            },
            "text/plain": [
              "  0%|          | 0.00/44.7M [00:00<?, ?B/s]"
            ]
          },
          "metadata": {}
        },
        {
          "output_type": "stream",
          "name": "stderr",
          "text": [
            "/usr/local/lib/python3.7/dist-packages/torch/nn/functional.py:718: UserWarning: Named tensors and all their associated APIs are an experimental feature and subject to change. Please do not use them for anything important until they are released as stable. (Triggered internally at  /pytorch/c10/core/TensorImpl.h:1156.)\n",
            "  return torch.max_pool2d(input, kernel_size, stride, padding, dilation, ceil_mode)\n"
          ]
        },
        {
          "output_type": "execute_result",
          "data": {
            "text/plain": [
              "torch.Size([13, 8, 37])"
            ]
          },
          "metadata": {},
          "execution_count": 16
        }
      ]
    },
    {
      "cell_type": "code",
      "metadata": {
        "trusted": true,
        "id": "9_dDevtajuos"
      },
      "source": [
        "lr = 0.02\n",
        "optimizer = torch.optim.SGD(crnn.parameters(), lr=lr, nesterov=True, \n",
        "                            weight_decay=weight_decay, momentum=momentum)\n",
        "critertion = nn.CTCLoss(blank=0)\n",
        "scheduler = torch.optim.lr_scheduler.ReduceLROnPlateau(optimizer, verbose=True, patience=5)"
      ],
      "execution_count": null,
      "outputs": []
    },
    {
      "cell_type": "code",
      "metadata": {
        "trusted": true,
        "id": "oo3XYC9bjuot"
      },
      "source": [
        "def validation(model, val_losses, label_converter):\n",
        "    with torch.no_grad():\n",
        "        model.eval()\n",
        "        for batch_img, batch_text in val_dataloader:\n",
        "            logits = crnn(batch_img.to(device))\n",
        "            val_loss = calculate_loss(logits, batch_text, label_converter)\n",
        "            val_losses.append(val_loss.item())\n",
        "    return val_losses"
      ],
      "execution_count": null,
      "outputs": []
    },
    {
      "cell_type": "code",
      "metadata": {
        "trusted": true,
        "id": "JIMLHf7mjuot"
      },
      "source": [
        "def calculate_loss(logits, texts, label_converter):\n",
        "    # get infomation from prediction\n",
        "    device = logits.device\n",
        "    input_len, batch_size, vocab_size = logits.size()\n",
        "    # encode inputs\n",
        "    logits = logits.log_softmax(2)\n",
        "    encoded_texts, text_lens = label_converter.encode(texts)\n",
        "    logits_lens = torch.full(size=(batch_size,), fill_value=input_len, dtype=torch.int32)\n",
        "    # calculate ctc\n",
        "    loss = critertion(logits, encoded_texts, \n",
        "                      logits_lens.to(device), text_lens)\n",
        "    return loss"
      ],
      "execution_count": null,
      "outputs": []
    },
    {
      "cell_type": "markdown",
      "metadata": {
        "id": "prjrg3f6juou"
      },
      "source": [
        "## <center> Training"
      ]
    },
    {
      "cell_type": "code",
      "metadata": {
        "trusted": true,
        "id": "uqYRaPWXjuou"
      },
      "source": [
        "epoch = 0"
      ],
      "execution_count": null,
      "outputs": []
    },
    {
      "cell_type": "code",
      "metadata": {
        "trusted": true,
        "id": "D7INz8Hpjuov",
        "colab": {
          "base_uri": "https://localhost:8080/"
        },
        "outputId": "20ed66ac-d36b-4619-a43e-4cd8f41483ac"
      },
      "source": [
        "train_losses = []\n",
        "val_losses = []\n",
        "val_epoch_len = len(val_dataset) // BATCH_SIZE\n",
        "val_epoch_len"
      ],
      "execution_count": null,
      "outputs": [
        {
          "output_type": "execute_result",
          "data": {
            "text/plain": [
              "26"
            ]
          },
          "metadata": {},
          "execution_count": 22
        }
      ]
    },
    {
      "cell_type": "code",
      "metadata": {
        "trusted": true,
        "id": "XgFAIWKAjuov",
        "colab": {
          "base_uri": "https://localhost:8080/",
          "height": 632
        },
        "outputId": "60344d4a-15ad-49f6-f2b2-1b9ffa2dbde6"
      },
      "source": [
        "try:\n",
        "    while epoch <= max_epoch:\n",
        "        crnn.train()\n",
        "        for idx, (batch_imgs, batch_text) in enumerate(train_dataloader):\n",
        "            optimizer.zero_grad()\n",
        "            logits = crnn(batch_imgs.to(device))\n",
        "            # calculate loss\n",
        "            train_loss = calculate_loss(logits, batch_text, label_converter)\n",
        "            if np.isnan(train_loss.detach().cpu().numpy()):\n",
        "                continue\n",
        "            train_losses.append(train_loss.item())\n",
        "            # make backward\n",
        "            train_loss.backward()\n",
        "\n",
        "            nn.utils.clip_grad_norm_(crnn.parameters(), clip_norm)\n",
        "            optimizer.step()\n",
        "\n",
        "        val_losses = validation(crnn, val_losses, label_converter)\n",
        "        \n",
        "        # printing progress\n",
        "        plot_loss(epoch, train_losses, val_losses)\n",
        "        print_prediction(crnn, val_dataset, device, label_converter)\n",
        "        \n",
        "        scheduler.step(val_losses[-1])\n",
        "        epoch += 1\n",
        "except KeyboardInterrupt:\n",
        "    pass"
      ],
      "execution_count": null,
      "outputs": [
        {
          "output_type": "display_data",
          "data": {
            "image/png": "[encoded data removed]",
            "text/plain": [
              "<Figure size 432x288 with 1 Axes>"
            ]
          },
          "metadata": {
            "needs_background": "light"
          }
        },
        {
          "output_type": "display_data",
          "data": {
            "image/png": "[encoded data removed]",
            "text/plain": [
              "<Figure size 864x432 with 2 Axes>"
            ]
          },
          "metadata": {
            "needs_background": "light"
          }
        },
        {
          "output_type": "stream",
          "name": "stdout",
          "text": [
            "Epoch    51: reducing learning rate of group 0 to 2.0000e-09.\n"
          ]
        },
        {
          "output_type": "display_data",
          "data": {
            "image/png": "[encoded data removed]",
            "text/plain": [
              "<Figure size 432x288 with 1 Axes>"
            ]
          },
          "metadata": {
            "needs_background": "light"
          }
        }
      ]
    },
    {
      "cell_type": "code",
      "metadata": {
        "trusted": true,
        "id": "i9j75t9Ejuow"
      },
      "source": [
        "# saving model\n",
        "torch.save(crnn.state_dict(), '/content/drive/MyDrive/data-ocr/crnn.pt')"
      ],
      "execution_count": null,
      "outputs": []
    },
    {
      "cell_type": "code",
      "metadata": {
        "trusted": true,
        "id": "vA1ndFkbjuow"
      },
      "source": [
        "def acc_calc(model, dataset, label_converter) -> float:\n",
        "    acc = 0\n",
        "    with torch.no_grad():\n",
        "        model.eval()\n",
        "        for idx in range(len(dataset)):\n",
        "            img, text = dataset[idx]\n",
        "            logits = model(img.unsqueeze(0).to(device))\n",
        "            pred_text = decode_prediction(logits.cpu(), label_converter)\n",
        "            \n",
        "            if pred_text == text:\n",
        "                acc += 1\n",
        "            \n",
        "    return acc / len(dataset)"
      ],
      "execution_count": null,
      "outputs": []
    },
    {
      "cell_type": "code",
      "metadata": {
        "trusted": true,
        "id": "2JC0kizLjuow",
        "colab": {
          "base_uri": "https://localhost:8080/",
          "height": 130
        },
        "outputId": "704a52b9-10f8-459f-f533-d15ef688783a"
      },
      "source": [
        "print_prediction(crnn, val_dataset, device, label_converter)"
      ],
      "execution_count": null,
      "outputs": [
        {
          "output_type": "display_data",
          "data": {
            "image/png": "[encoded data removed]",
            "text/plain": [
              "<Figure size 432x288 with 1 Axes>"
            ]
          },
          "metadata": {
            "needs_background": "light"
          }
        }
      ]
    },
    {
      "cell_type": "code",
      "metadata": {
        "trusted": true,
        "id": "5_w1s6mljuox",
        "colab": {
          "base_uri": "https://localhost:8080/"
        },
        "outputId": "61e5e4d1-4750-422e-b649-c9c3a9096c9f"
      },
      "source": [
        "val_acc = acc_calc(crnn, val_dataset, label_converter)\n",
        "train_acc = acc_calc(crnn, train_dataset, label_converter)\n",
        "print('Validaton Accuracy: ', val_acc)\n",
        "print('Training Accuracy: ', train_acc)"
      ],
      "execution_count": null,
      "outputs": [
        {
          "output_type": "stream",
          "name": "stdout",
          "text": [
            "Validaton Accuracy:  0.7990654205607477\n",
            "Training Accuracy:  0.9205607476635514\n"
          ]
        }
      ]
    },
    {
      "cell_type": "code",
      "metadata": {
        "trusted": true,
        "id": "TnbPz12ejuox",
        "colab": {
          "base_uri": "https://localhost:8080/"
        },
        "outputId": "161cd402-83af-4b08-dd3c-2d5c945ae29e"
      },
      "source": [
        "crnn"
      ],
      "execution_count": null,
      "outputs": [
        {
          "output_type": "execute_result",
          "data": {
            "text/plain": [
              "CRNN(\n",
              "  (resnet): Sequential(\n",
              "    (0): Conv2d(3, 64, kernel_size=(7, 7), stride=(2, 2), padding=(3, 3), bias=False)\n",
              "    (1): BatchNorm2d(64, eps=1e-05, momentum=0.1, affine=True, track_running_stats=True)\n",
              "    (2): ReLU(inplace=True)\n",
              "    (3): MaxPool2d(kernel_size=3, stride=2, padding=1, dilation=1, ceil_mode=False)\n",
              "    (4): Sequential(\n",
              "      (0): BasicBlock(\n",
              "        (conv1): Conv2d(64, 64, kernel_size=(3, 3), stride=(1, 1), padding=(1, 1), bias=False)\n",
              "        (bn1): BatchNorm2d(64, eps=1e-05, momentum=0.1, affine=True, track_running_stats=True)\n",
              "        (relu): ReLU(inplace=True)\n",
              "        (conv2): Conv2d(64, 64, kernel_size=(3, 3), stride=(1, 1), padding=(1, 1), bias=False)\n",
              "        (bn2): BatchNorm2d(64, eps=1e-05, momentum=0.1, affine=True, track_running_stats=True)\n",
              "      )\n",
              "      (1): BasicBlock(\n",
              "        (conv1): Conv2d(64, 64, kernel_size=(3, 3), stride=(1, 1), padding=(1, 1), bias=False)\n",
              "        (bn1): BatchNorm2d(64, eps=1e-05, momentum=0.1, affine=True, track_running_stats=True)\n",
              "        (relu): ReLU(inplace=True)\n",
              "        (conv2): Conv2d(64, 64, kernel_size=(3, 3), stride=(1, 1), padding=(1, 1), bias=False)\n",
              "        (bn2): BatchNorm2d(64, eps=1e-05, momentum=0.1, affine=True, track_running_stats=True)\n",
              "      )\n",
              "    )\n",
              "    (5): Sequential(\n",
              "      (0): BasicBlock(\n",
              "        (conv1): Conv2d(64, 128, kernel_size=(3, 3), stride=(2, 2), padding=(1, 1), bias=False)\n",
              "        (bn1): BatchNorm2d(128, eps=1e-05, momentum=0.1, affine=True, track_running_stats=True)\n",
              "        (relu): ReLU(inplace=True)\n",
              "        (conv2): Conv2d(128, 128, kernel_size=(3, 3), stride=(1, 1), padding=(1, 1), bias=False)\n",
              "        (bn2): BatchNorm2d(128, eps=1e-05, momentum=0.1, affine=True, track_running_stats=True)\n",
              "        (downsample): Sequential(\n",
              "          (0): Conv2d(64, 128, kernel_size=(1, 1), stride=(2, 2), bias=False)\n",
              "          (1): BatchNorm2d(128, eps=1e-05, momentum=0.1, affine=True, track_running_stats=True)\n",
              "        )\n",
              "      )\n",
              "      (1): BasicBlock(\n",
              "        (conv1): Conv2d(128, 128, kernel_size=(3, 3), stride=(1, 1), padding=(1, 1), bias=False)\n",
              "        (bn1): BatchNorm2d(128, eps=1e-05, momentum=0.1, affine=True, track_running_stats=True)\n",
              "        (relu): ReLU(inplace=True)\n",
              "        (conv2): Conv2d(128, 128, kernel_size=(3, 3), stride=(1, 1), padding=(1, 1), bias=False)\n",
              "        (bn2): BatchNorm2d(128, eps=1e-05, momentum=0.1, affine=True, track_running_stats=True)\n",
              "      )\n",
              "    )\n",
              "    (6): Sequential(\n",
              "      (0): BasicBlock(\n",
              "        (conv1): Conv2d(128, 256, kernel_size=(3, 3), stride=(2, 2), padding=(1, 1), bias=False)\n",
              "        (bn1): BatchNorm2d(256, eps=1e-05, momentum=0.1, affine=True, track_running_stats=True)\n",
              "        (relu): ReLU(inplace=True)\n",
              "        (conv2): Conv2d(256, 256, kernel_size=(3, 3), stride=(1, 1), padding=(1, 1), bias=False)\n",
              "        (bn2): BatchNorm2d(256, eps=1e-05, momentum=0.1, affine=True, track_running_stats=True)\n",
              "        (downsample): Sequential(\n",
              "          (0): Conv2d(128, 256, kernel_size=(1, 1), stride=(2, 2), bias=False)\n",
              "          (1): BatchNorm2d(256, eps=1e-05, momentum=0.1, affine=True, track_running_stats=True)\n",
              "        )\n",
              "      )\n",
              "      (1): BasicBlock(\n",
              "        (conv1): Conv2d(256, 256, kernel_size=(3, 3), stride=(1, 1), padding=(1, 1), bias=False)\n",
              "        (bn1): BatchNorm2d(256, eps=1e-05, momentum=0.1, affine=True, track_running_stats=True)\n",
              "        (relu): ReLU(inplace=True)\n",
              "        (conv2): Conv2d(256, 256, kernel_size=(3, 3), stride=(1, 1), padding=(1, 1), bias=False)\n",
              "        (bn2): BatchNorm2d(256, eps=1e-05, momentum=0.1, affine=True, track_running_stats=True)\n",
              "      )\n",
              "    )\n",
              "  )\n",
              "  (cn6): blockCNN(\n",
              "    (conv): Conv2d(256, 256, kernel_size=(3, 3), stride=(1, 1), padding=(1, 1))\n",
              "    (bn): BatchNorm2d(256, eps=1e-05, momentum=0.1, affine=True, track_running_stats=True)\n",
              "  )\n",
              "  (linear1): Linear(in_features=1024, out_features=256, bias=True)\n",
              "  (gru1): blockRNN(\n",
              "    (gru): GRU(256, 256, bidirectional=True)\n",
              "  )\n",
              "  (gru2): blockRNN(\n",
              "    (gru): GRU(256, 256, bidirectional=True)\n",
              "  )\n",
              "  (linear2): Linear(in_features=512, out_features=37, bias=True)\n",
              ")"
            ]
          },
          "metadata": {},
          "execution_count": 27
        }
      ]
    },
    {
      "cell_type": "code",
      "metadata": {
        "id": "Tzh_113UgVks"
      },
      "source": [
        ""
      ],
      "execution_count": null,
      "outputs": []
    }
  ]
}