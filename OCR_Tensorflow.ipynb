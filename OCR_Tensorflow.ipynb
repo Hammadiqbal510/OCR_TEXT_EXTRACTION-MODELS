{
  "nbformat": 4,
  "nbformat_minor": 0,
  "metadata": {
    "kernelspec": {
      "language": "python",
      "display_name": "Python 3",
      "name": "python3"
    },
    "language_info": {
      "pygments_lexer": "ipython3",
      "nbconvert_exporter": "python",
      "version": "3.6.4",
      "file_extension": ".py",
      "codemirror_mode": {
        "name": "ipython",
        "version": 3
      },
      "name": "python",
      "mimetype": "text/x-python"
    },
    "colab": {
      "name": "OCR Tensorflow.ipynb",
      "provenance": []
    }
  },
  "cells": [
    {
      "cell_type": "code",
      "metadata": {
        "_uuid": "8f2839f25d086af736a60e9eeb907d3b93b6e0e5",
        "_cell_guid": "b1076dfc-b9ad-4769-8c92-a6c4dae69d19",
        "trusted": true,
        "id": "J5sL8a6I0qhZ",
        "colab": {
          "base_uri": "https://localhost:8080/"
        },
        "outputId": "823792c1-0c13-42db-c79d-ce99064b9f05"
      },
      "source": [
        "import os\n",
        "import cv2\n",
        "import numpy as np \n",
        "import pandas as pd\n",
        "import matplotlib.pyplot as plt\n",
        "\n",
        "from pathlib import Path\n",
        "from collections import Counter\n",
        "from sklearn.model_selection import train_test_split\n",
        "\n",
        "import tensorflow as tf\n",
        "from tensorflow import keras\n",
        "from tensorflow.keras import layers\n",
        "print(\"Tensorflow version: \", tf.__version__)\n",
        "\n",
        "seed = 1234\n",
        "np.random.seed(seed)\n",
        "tf.random.set_seed(seed)"
      ],
      "execution_count": null,
      "outputs": [
        {
          "output_type": "stream",
          "name": "stdout",
          "text": [
            "Tensorflow version:  2.7.0\n"
          ]
        }
      ]
    },
    {
      "cell_type": "code",
      "metadata": {
        "colab": {
          "base_uri": "https://localhost:8080/"
        },
        "id": "IiNYTFNY1EYV",
        "outputId": "85b3f551-ef29-4369-e3ba-45cdb1bb8ff3"
      },
      "source": [
        "from google.colab import drive\n",
        "drive.mount('/content/drive')"
      ],
      "execution_count": null,
      "outputs": [
        {
          "output_type": "stream",
          "name": "stdout",
          "text": [
            "Drive already mounted at /content/drive; to attempt to forcibly remount, call drive.mount(\"/content/drive\", force_remount=True).\n"
          ]
        }
      ]
    },
    {
      "cell_type": "code",
      "metadata": {
        "_uuid": "d629ff2d2480ee46fbb7e2d37f6b5fab8052498a",
        "_cell_guid": "79c7e3d0-c299-4dcb-8224-4455121ee9b0",
        "trusted": true,
        "id": "BEJz3ScR0qhg",
        "colab": {
          "base_uri": "https://localhost:8080/",
          "height": 237
        },
        "outputId": "ad0f609f-43d4-40eb-a61f-e0112e014e94"
      },
      "source": [
        "# Path to the data directory\n",
        "data_dir = Path(\"/content/drive/MyDrive/OCR Tensorflow/sample\")\n",
        "\n",
        "\n",
        "\n",
        "# Get list of all the images\n",
        "images = list(data_dir.glob(\"*.png\"))\n",
        "print(\"Number of images found: \", len(images))\n",
        "\n",
        "\n",
        "# Let's take a look at some samples first. \n",
        "# Always look at your data!\n",
        "sample_images = images[:4]\n",
        "\n",
        "_,ax = plt.subplots(2,2, figsize=(5,3))\n",
        "for i in range(4):\n",
        "    img = cv2.imread(str(sample_images[i]))\n",
        "    print(\"Shape of image: \", img.shape)\n",
        "    ax[i//2, i%2].imshow(img)\n",
        "    ax[i//2, i%2].axis('off')\n",
        "plt.show()"
      ],
      "execution_count": null,
      "outputs": [
        {
          "output_type": "stream",
          "name": "stdout",
          "text": [
            "Number of images found:  1040\n",
            "Shape of image:  (50, 200, 3)\n",
            "Shape of image:  (50, 200, 3)\n",
            "Shape of image:  (50, 200, 3)\n",
            "Shape of image:  (50, 200, 3)\n"
          ]
        },
        {
          "output_type": "display_data",
          "data": {
            "image/png": "[encoded data removed]",
            "text/plain": [
              "<Figure size 360x216 with 4 Axes>"
            ]
          },
          "metadata": {
            "needs_background": "light"
          }
        }
      ]
    },
    {
      "cell_type": "code",
      "metadata": {
        "trusted": true,
        "id": "AyfFWPUF0qhi",
        "colab": {
          "base_uri": "https://localhost:8080/",
          "height": 292
        },
        "outputId": "0062ae34-c1bc-492b-eed5-65b30a9d2404"
      },
      "source": [
        "# Store all the characters in a set\n",
        "characters = set()\n",
        "\n",
        "# A list to store the length of each captcha\n",
        "captcha_length = []\n",
        "\n",
        "# Store image-label info\n",
        "dataset = []\n",
        "\n",
        "# Iterate over the dataset and store the\n",
        "# information needed\n",
        "for img_path in images:\n",
        "    # 1. Get the label associated with each image\n",
        "    label = img_path.name.split(\".png\")[0]\n",
        "    # 2. Store the length of this cpatcha\n",
        "    captcha_length.append(len(label))\n",
        "    # 3. Store the image-label pair info\n",
        "    dataset.append((str(img_path), label))\n",
        "    \n",
        "    # 4. Store the characters present\n",
        "    for ch in label:\n",
        "        characters.add(ch)\n",
        "\n",
        "# Sort the characters        \n",
        "characters = sorted(characters)\n",
        "\n",
        "# Convert the dataset info into a dataframe\n",
        "dataset = pd.DataFrame(dataset, columns=[\"img_path\", \"label\"], index=None)\n",
        "\n",
        "# Shuffle the dataset\n",
        "dataset = dataset.sample(frac=1.).reset_index(drop=True)\n",
        "\n",
        "\n",
        "print(\"Number of unqiue charcaters in the whole dataset: \", len(characters))\n",
        "print(\"Maximum length of any captcha: \", max(Counter(captcha_length).keys()))\n",
        "print(\"Characters present: \", characters)\n",
        "print(\"Total number of samples in the dataset: \", len(dataset))\n",
        "dataset.head()"
      ],
      "execution_count": null,
      "outputs": [
        {
          "output_type": "stream",
          "name": "stdout",
          "text": [
            "Number of unqiue charcaters in the whole dataset:  19\n",
            "Maximum length of any captcha:  5\n",
            "Characters present:  ['2', '3', '4', '5', '6', '7', '8', 'b', 'c', 'd', 'e', 'f', 'g', 'm', 'n', 'p', 'w', 'x', 'y']\n",
            "Total number of samples in the dataset:  1040\n"
          ]
        },
        {
          "output_type": "execute_result",
          "data": {
            "text/html": [
              "<div>\n",
              "<style scoped>\n",
              "    .dataframe tbody tr th:only-of-type {\n",
              "        vertical-align: middle;\n",
              "    }\n",
              "\n",
              "    .dataframe tbody tr th {\n",
              "        vertical-align: top;\n",
              "    }\n",
              "\n",
              "    .dataframe thead th {\n",
              "        text-align: right;\n",
              "    }\n",
              "</style>\n",
              "<table border=\"1\" class=\"dataframe\">\n",
              "  <thead>\n",
              "    <tr style=\"text-align: right;\">\n",
              "      <th></th>\n",
              "      <th>img_path</th>\n",
              "      <th>label</th>\n",
              "    </tr>\n",
              "  </thead>\n",
              "  <tbody>\n",
              "    <tr>\n",
              "      <th>0</th>\n",
              "      <td>/content/drive/MyDrive/OCR Tensorflow/sample/c...</td>\n",
              "      <td>c86md</td>\n",
              "    </tr>\n",
              "    <tr>\n",
              "      <th>1</th>\n",
              "      <td>/content/drive/MyDrive/OCR Tensorflow/sample/w...</td>\n",
              "      <td>wdww8</td>\n",
              "    </tr>\n",
              "    <tr>\n",
              "      <th>2</th>\n",
              "      <td>/content/drive/MyDrive/OCR Tensorflow/sample/f...</td>\n",
              "      <td>fywb8</td>\n",
              "    </tr>\n",
              "    <tr>\n",
              "      <th>3</th>\n",
              "      <td>/content/drive/MyDrive/OCR Tensorflow/sample/m...</td>\n",
              "      <td>mc35n</td>\n",
              "    </tr>\n",
              "    <tr>\n",
              "      <th>4</th>\n",
              "      <td>/content/drive/MyDrive/OCR Tensorflow/sample/n...</td>\n",
              "      <td>nnp4e</td>\n",
              "    </tr>\n",
              "  </tbody>\n",
              "</table>\n",
              "</div>"
            ],
            "text/plain": [
              "                                            img_path  label\n",
              "0  /content/drive/MyDrive/OCR Tensorflow/sample/c...  c86md\n",
              "1  /content/drive/MyDrive/OCR Tensorflow/sample/w...  wdww8\n",
              "2  /content/drive/MyDrive/OCR Tensorflow/sample/f...  fywb8\n",
              "3  /content/drive/MyDrive/OCR Tensorflow/sample/m...  mc35n\n",
              "4  /content/drive/MyDrive/OCR Tensorflow/sample/n...  nnp4e"
            ]
          },
          "metadata": {},
          "execution_count": 7
        }
      ]
    },
    {
      "cell_type": "code",
      "metadata": {
        "trusted": true,
        "id": "6LerJ_040qhk",
        "colab": {
          "base_uri": "https://localhost:8080/"
        },
        "outputId": "431662ef-3b4f-4e28-c706-9c723bbcbec9"
      },
      "source": [
        "# Split the dataset into training and validation sets\n",
        "training_data, validation_data = train_test_split(dataset, test_size=0.1, random_state=seed)\n",
        "\n",
        "training_data = training_data.reset_index(drop=True)\n",
        "validation_data = validation_data.reset_index(drop=True)\n",
        "\n",
        "print(\"Number of training samples: \", len(training_data))\n",
        "print(\"Number of validation samples: \", len(validation_data))\n",
        "\n",
        "\n",
        "\n",
        "# Map text to numeric labels \n",
        "char_to_labels = {char:idx for idx, char in enumerate(characters)}\n",
        "\n",
        "# Map numeric labels to text\n",
        "labels_to_char = {val:key for key, val in char_to_labels.items()}\n",
        "\n",
        "\n",
        "\n",
        "# Sanity check for corrupted images\n",
        "def is_valid_captcha(captcha):\n",
        "    for ch in captcha:\n",
        "        if not ch in characters:\n",
        "            return False\n",
        "    return True\n",
        "\n",
        "\n",
        "\n",
        "# Store arrays in memory as it's not a muvh big dataset\n",
        "def generate_arrays(df, resize=True, img_height=50, img_width=200):\n",
        "    \"\"\"Generates image array and labels array from a dataframe.\n",
        "    \n",
        "    Args:\n",
        "        df: dataframe from which we want to read the data\n",
        "        resize (bool)    : whether to resize images or not\n",
        "        img_weidth (int): width of the resized images\n",
        "        img_height (int): height of the resized images\n",
        "        \n",
        "    Returns:\n",
        "        images (ndarray): grayscale images\n",
        "        labels (ndarray): corresponding encoded labels\n",
        "    \"\"\"\n",
        "    \n",
        "    num_items = len(df)\n",
        "    images = np.zeros((num_items, img_height, img_width), dtype=np.float32)\n",
        "    labels = [0]*num_items\n",
        "    \n",
        "    for i in range(num_items):\n",
        "        img = cv2.imread(df[\"img_path\"][i])\n",
        "        img = cv2.cvtColor(img, cv2.COLOR_BGR2GRAY)\n",
        "        \n",
        "        if resize: \n",
        "            img = cv2.resize(img, (img_width, img_height))\n",
        "        \n",
        "        img = (img/255.).astype(np.float32)\n",
        "        label = df[\"label\"][i]\n",
        "        \n",
        "        # Add only if it is a valid captcha\n",
        "        if is_valid_captcha(label):\n",
        "            images[i, :, :] = img\n",
        "            labels[i] = label\n",
        "    \n",
        "    return images, np.array(labels)\n",
        "\n",
        "\n",
        "\n",
        "# Build training data\n",
        "training_data, training_labels = generate_arrays(df=training_data)\n",
        "print(\"Number of training images: \", training_data.shape)\n",
        "print(\"Number of training labels: \", training_labels.shape)\n",
        "\n",
        "\n",
        "# Build validation data\n",
        "validation_data, validation_labels = generate_arrays(df=validation_data)\n",
        "print(\"Number of validation images: \", validation_data.shape)\n",
        "print(\"Number of validation labels: \", validation_labels.shape)"
      ],
      "execution_count": null,
      "outputs": [
        {
          "output_type": "stream",
          "name": "stdout",
          "text": [
            "Number of training samples:  936\n",
            "Number of validation samples:  104\n",
            "Number of training images:  (936, 50, 200)\n",
            "Number of training labels:  (936,)\n",
            "Number of validation images:  (104, 50, 200)\n",
            "Number of validation labels:  (104,)\n"
          ]
        }
      ]
    },
    {
      "cell_type": "code",
      "metadata": {
        "trusted": true,
        "id": "Cksydife0qhn"
      },
      "source": [
        "class DataGenerator(keras.utils.Sequence):\n",
        "    \"\"\"Generates batches from a given dataset.\n",
        "    \n",
        "    Args:\n",
        "        data: training or validation data\n",
        "        labels: corresponding labels\n",
        "        char_map: dictionary mapping char to labels\n",
        "        batch_size: size of a single batch\n",
        "        img_width: width of the resized\n",
        "        img_height: height of the resized\n",
        "        downsample_factor: by what factor did the CNN downsample the images\n",
        "        max_length: maximum length of any captcha\n",
        "        shuffle: whether to shuffle data or not after each epoch\n",
        "    Returns:\n",
        "        batch_inputs: a dictionary containing batch inputs \n",
        "        batch_labels: a batch of corresponding labels \n",
        "    \"\"\"\n",
        "    \n",
        "    def __init__(self,\n",
        "                 data,\n",
        "                 labels,\n",
        "                 char_map,\n",
        "                 batch_size=16,\n",
        "                 img_width=200,\n",
        "                 img_height=50,\n",
        "                 downsample_factor=4,\n",
        "                 max_length=5,\n",
        "                 shuffle=True\n",
        "                ):\n",
        "        self.data = data\n",
        "        self.labels = labels\n",
        "        self.char_map = char_map\n",
        "        self.batch_size = batch_size\n",
        "        self.img_width = img_width\n",
        "        self.img_height = img_height\n",
        "        self.downsample_factor = downsample_factor\n",
        "        self.max_length = max_length\n",
        "        self.shuffle = shuffle\n",
        "        self.indices = np.arange(len(data))    \n",
        "        self.on_epoch_end()\n",
        "        \n",
        "    def __len__(self):\n",
        "        return int(np.ceil(len(self.data) / self.batch_size))\n",
        "    \n",
        "    def __getitem__(self, idx):\n",
        "        # 1. Get the next batch indices\n",
        "        curr_batch_idx = self.indices[idx*self.batch_size:(idx+1)*self.batch_size]\n",
        "        \n",
        "        # 2. This isn't necessary but it can help us save some memory\n",
        "        # as not all batches the last batch may not have elements\n",
        "        # equal to the batch_size \n",
        "        batch_len = len(curr_batch_idx)\n",
        "        \n",
        "        # 3. Instantiate batch arrays\n",
        "        batch_images = np.ones((batch_len, self.img_width, self.img_height, 1),\n",
        "                               dtype=np.float32)\n",
        "        batch_labels = np.ones((batch_len, self.max_length), dtype=np.float32)\n",
        "        input_length = np.ones((batch_len, 1), dtype=np.int64) * \\\n",
        "                                (self.img_width // self.downsample_factor - 2)\n",
        "        label_length = np.zeros((batch_len, 1), dtype=np.int64)\n",
        "        \n",
        "        \n",
        "        for j, idx in enumerate(curr_batch_idx):\n",
        "            # 1. Get the image and transpose it\n",
        "            img = self.data[idx].T\n",
        "            # 2. Add extra dimenison\n",
        "            img = np.expand_dims(img, axis=-1)\n",
        "            # 3. Get the correpsonding label\n",
        "            text = self.labels[idx]\n",
        "            # 4. Include the pair only if the captcha is valid\n",
        "            if is_valid_captcha(text):\n",
        "                label = [self.char_map[ch] for ch in text]\n",
        "                batch_images[j] = img\n",
        "                batch_labels[j] = label\n",
        "                label_length[j] = len(text)\n",
        "        \n",
        "        batch_inputs = {\n",
        "                'input_data': batch_images,\n",
        "                'input_label': batch_labels,\n",
        "                'input_length': input_length,\n",
        "                'label_length': label_length,\n",
        "                }\n",
        "        return batch_inputs, np.zeros(batch_len).astype(np.float32)\n",
        "        \n",
        "    \n",
        "    def on_epoch_end(self):\n",
        "        if self.shuffle:\n",
        "            np.random.shuffle(self.indices)"
      ],
      "execution_count": null,
      "outputs": []
    },
    {
      "cell_type": "code",
      "metadata": {
        "trusted": true,
        "id": "kPdEb21K0qhp"
      },
      "source": [
        "# Batch size for training and validation\n",
        "batch_size = 16\n",
        "\n",
        "# Desired image dimensions\n",
        "img_width=200\n",
        "img_height=50 \n",
        "\n",
        "# Factor  by which the image is going to be downsampled\n",
        "# by the convolutional blocks\n",
        "downsample_factor=4\n",
        "\n",
        "# Maximum length of any captcha in the data\n",
        "max_length=5\n",
        "\n",
        "# Get a generator object for the training data\n",
        "train_data_generator = DataGenerator(data=training_data,\n",
        "                                     labels=training_labels,\n",
        "                                     char_map=char_to_labels,\n",
        "                                     batch_size=batch_size,\n",
        "                                     img_width=img_width,\n",
        "                                     img_height=img_height,\n",
        "                                     downsample_factor=downsample_factor,\n",
        "                                     max_length=max_length,\n",
        "                                     shuffle=True\n",
        "                                    )\n",
        "\n",
        "# Get a generator object for the validation data \n",
        "valid_data_generator = DataGenerator(data=validation_data,\n",
        "                                     labels=validation_labels,\n",
        "                                     char_map=char_to_labels,\n",
        "                                     batch_size=batch_size,\n",
        "                                     img_width=img_width,\n",
        "                                     img_height=img_height,\n",
        "                                     downsample_factor=downsample_factor,\n",
        "                                     max_length=max_length,\n",
        "                                     shuffle=False\n",
        "                                    )"
      ],
      "execution_count": null,
      "outputs": []
    },
    {
      "cell_type": "code",
      "metadata": {
        "trusted": true,
        "id": "867xYS5P0qhq"
      },
      "source": [
        "class CTCLayer(layers.Layer):\n",
        "    def __init__(self, name=None):\n",
        "        super().__init__(name=name)\n",
        "        self.loss_fn = keras.backend.ctc_batch_cost\n",
        "\n",
        "    def call(self, y_true, y_pred, input_length, label_length):\n",
        "        # Compute the training-time loss value and add it\n",
        "        # to the layer using `self.add_loss()`.\n",
        "        loss = self.loss_fn(y_true, y_pred, input_length, label_length)\n",
        "        self.add_loss(loss)\n",
        "        \n",
        "        # On test time, just return the computed loss\n",
        "        return loss\n",
        "\n",
        "\n",
        "\n",
        "def build_model():\n",
        "    # Inputs to the model\n",
        "    input_img = layers.Input(shape=(img_width, img_height, 1),\n",
        "                            name='input_data',\n",
        "                            dtype='float32')\n",
        "    labels = layers.Input(name='input_label', shape=[max_length], dtype='float32')\n",
        "    input_length = layers.Input(name='input_length', shape=[1], dtype='int64')\n",
        "    label_length = layers.Input(name='label_length', shape=[1], dtype='int64')\n",
        "    \n",
        "    # First conv block\n",
        "    x = layers.Conv2D(32,\n",
        "               (3,3),\n",
        "               activation='relu',\n",
        "               kernel_initializer='he_normal',\n",
        "               padding='same',\n",
        "               name='Conv1')(input_img)\n",
        "    x = layers.MaxPooling2D((2,2), name='pool1')(x)\n",
        "    \n",
        "    # Second conv block\n",
        "    x = layers.Conv2D(64,\n",
        "               (3,3),\n",
        "               activation='relu',\n",
        "               kernel_initializer='he_normal',\n",
        "               padding='same',\n",
        "               name='Conv2')(x)\n",
        "    x = layers.MaxPooling2D((2,2), name='pool2')(x)\n",
        "    \n",
        "    # We have used two max pool with pool size and strides of 2.\n",
        "    # Hence, downsampled feature maps are 4x smaller. The number of\n",
        "    # filters in the last layer is 64. Reshape accordingly before\n",
        "    # passing it to RNNs\n",
        "    new_shape = ((img_width // 4), (img_height // 4)*64)\n",
        "    x = layers.Reshape(target_shape=new_shape, name='reshape')(x)\n",
        "    x = layers.Dense(64, activation='relu', name='dense1')(x)\n",
        "    x = layers.Dropout(0.2)(x)\n",
        "    \n",
        "    # RNNs\n",
        "    x = layers.Bidirectional(layers.LSTM(128,\n",
        "                                         return_sequences=True,\n",
        "                                         dropout=0.2))(x)\n",
        "    x = layers.Bidirectional(layers.LSTM(64,\n",
        "                                         return_sequences=True,\n",
        "                                         dropout=0.25))(x)\n",
        "    \n",
        "    # Predictions\n",
        "    x = layers.Dense(len(characters)+1,\n",
        "              activation='softmax', \n",
        "              name='dense2',\n",
        "              kernel_initializer='he_normal')(x)\n",
        "    \n",
        "    # Calculate CTC\n",
        "    output = CTCLayer(name='ctc_loss')(labels, x, input_length, label_length)\n",
        "    \n",
        "    # Define the model\n",
        "    model = keras.models.Model(inputs=[input_img,\n",
        "                                       labels,\n",
        "                                       input_length,\n",
        "                                       label_length],\n",
        "                                outputs=output,\n",
        "                                name='ocr_model_v1')\n",
        "    \n",
        "    # Optimizer\n",
        "    sgd = keras.optimizers.SGD(learning_rate=0.002,\n",
        "                               decay=1e-6,\n",
        "                               momentum=0.9,\n",
        "                               nesterov=True,\n",
        "                               clipnorm=5)\n",
        "    \n",
        "    # Compile the model and return \n",
        "    model.compile(optimizer=sgd)\n",
        "    return model"
      ],
      "execution_count": null,
      "outputs": []
    },
    {
      "cell_type": "code",
      "metadata": {
        "trusted": true,
        "id": "MFd2XyBd0qhs",
        "colab": {
          "base_uri": "https://localhost:8080/"
        },
        "outputId": "a7831581-b85c-430f-b6ac-de2820bdcf40"
      },
      "source": [
        "model = build_model()\n",
        "model.summary()"
      ],
      "execution_count": null,
      "outputs": [
        {
          "output_type": "stream",
          "name": "stdout",
          "text": [
            "Model: \"ocr_model_v1\"\n",
            "__________________________________________________________________________________________________\n",
            " Layer (type)                   Output Shape         Param #     Connected to                     \n",
            "==================================================================================================\n",
            " input_data (InputLayer)        [(None, 200, 50, 1)  0           []                               \n",
            "                                ]                                                                 \n",
            "                                                                                                  \n",
            " Conv1 (Conv2D)                 (None, 200, 50, 32)  320         ['input_data[0][0]']             \n",
            "                                                                                                  \n",
            " pool1 (MaxPooling2D)           (None, 100, 25, 32)  0           ['Conv1[0][0]']                  \n",
            "                                                                                                  \n",
            " Conv2 (Conv2D)                 (None, 100, 25, 64)  18496       ['pool1[0][0]']                  \n",
            "                                                                                                  \n",
            " pool2 (MaxPooling2D)           (None, 50, 12, 64)   0           ['Conv2[0][0]']                  \n",
            "                                                                                                  \n",
            " reshape (Reshape)              (None, 50, 768)      0           ['pool2[0][0]']                  \n",
            "                                                                                                  \n",
            " dense1 (Dense)                 (None, 50, 64)       49216       ['reshape[0][0]']                \n",
            "                                                                                                  \n",
            " dropout (Dropout)              (None, 50, 64)       0           ['dense1[0][0]']                 \n",
            "                                                                                                  \n",
            " bidirectional (Bidirectional)  (None, 50, 256)      197632      ['dropout[0][0]']                \n",
            "                                                                                                  \n",
            " bidirectional_1 (Bidirectional  (None, 50, 128)     164352      ['bidirectional[0][0]']          \n",
            " )                                                                                                \n",
            "                                                                                                  \n",
            " input_label (InputLayer)       [(None, 5)]          0           []                               \n",
            "                                                                                                  \n",
            " dense2 (Dense)                 (None, 50, 20)       2580        ['bidirectional_1[0][0]']        \n",
            "                                                                                                  \n",
            " input_length (InputLayer)      [(None, 1)]          0           []                               \n",
            "                                                                                                  \n",
            " label_length (InputLayer)      [(None, 1)]          0           []                               \n",
            "                                                                                                  \n",
            " ctc_loss (CTCLayer)            (None, 1)            0           ['input_label[0][0]',            \n",
            "                                                                  'dense2[0][0]',                 \n",
            "                                                                  'input_length[0][0]',           \n",
            "                                                                  'label_length[0][0]']           \n",
            "                                                                                                  \n",
            "==================================================================================================\n",
            "Total params: 432,596\n",
            "Trainable params: 432,596\n",
            "Non-trainable params: 0\n",
            "__________________________________________________________________________________________________\n"
          ]
        }
      ]
    },
    {
      "cell_type": "markdown",
      "metadata": {
        "id": "4gysj66_6bJO"
      },
      "source": [
        ""
      ]
    },
    {
      "cell_type": "code",
      "metadata": {
        "trusted": true,
        "id": "1JU91Sz50qht",
        "colab": {
          "base_uri": "https://localhost:8080/"
        },
        "outputId": "edaf94d8-ed1e-4df0-a3d1-64e5750b5779"
      },
      "source": [
        "# Add early stopping\n",
        "es = keras.callbacks.EarlyStopping(monitor='val_loss',\n",
        "                                   patience=5,\n",
        "                                   restore_best_weights=True)\n",
        "\n",
        "# Train the model\n",
        "history = model.fit(train_data_generator,\n",
        "                    validation_data=valid_data_generator,\n",
        "                    epochs=50,\n",
        "                    callbacks=[es])"
      ],
      "execution_count": null,
      "outputs": [
        {
          "output_type": "stream",
          "name": "stdout",
          "text": [
            "Epoch 1/50\n",
            "59/59 [==============================] - 35s 432ms/step - loss: 23.7532 - val_loss: 16.4633\n",
            "Epoch 2/50\n",
            "59/59 [==============================] - 23s 393ms/step - loss: 16.4008 - val_loss: 16.5418\n",
            "Epoch 3/50\n",
            "59/59 [==============================] - 24s 402ms/step - loss: 16.4085 - val_loss: 16.3879\n",
            "Epoch 4/50\n",
            "59/59 [==============================] - 23s 397ms/step - loss: 16.3752 - val_loss: 16.3374\n",
            "Epoch 5/50\n",
            "59/59 [==============================] - 23s 393ms/step - loss: 16.1774 - val_loss: 16.0050\n",
            "Epoch 6/50\n",
            "59/59 [==============================] - 23s 394ms/step - loss: 16.0389 - val_loss: 16.1366\n",
            "Epoch 7/50\n",
            "59/59 [==============================] - 23s 392ms/step - loss: 15.9915 - val_loss: 16.0470\n",
            "Epoch 8/50\n",
            "59/59 [==============================] - 23s 390ms/step - loss: 15.7587 - val_loss: 15.6721\n",
            "Epoch 9/50\n",
            "59/59 [==============================] - 23s 388ms/step - loss: 15.4664 - val_loss: 15.4607\n",
            "Epoch 10/50\n",
            "59/59 [==============================] - 23s 390ms/step - loss: 15.1657 - val_loss: 14.9710\n",
            "Epoch 11/50\n",
            "59/59 [==============================] - 23s 387ms/step - loss: 14.7272 - val_loss: 14.7280\n",
            "Epoch 12/50\n",
            "59/59 [==============================] - 23s 388ms/step - loss: 14.4374 - val_loss: 14.4711\n",
            "Epoch 13/50\n",
            "59/59 [==============================] - 23s 387ms/step - loss: 14.0596 - val_loss: 14.0427\n",
            "Epoch 14/50\n",
            "59/59 [==============================] - 23s 389ms/step - loss: 13.6506 - val_loss: 13.5318\n",
            "Epoch 15/50\n",
            "59/59 [==============================] - 23s 386ms/step - loss: 13.1885 - val_loss: 13.1233\n",
            "Epoch 16/50\n",
            "59/59 [==============================] - 23s 390ms/step - loss: 12.8175 - val_loss: 12.9189\n",
            "Epoch 17/50\n",
            "59/59 [==============================] - 23s 385ms/step - loss: 12.4089 - val_loss: 12.4232\n",
            "Epoch 18/50\n",
            "59/59 [==============================] - 23s 389ms/step - loss: 11.9740 - val_loss: 12.0105\n",
            "Epoch 19/50\n",
            "59/59 [==============================] - 23s 387ms/step - loss: 11.4119 - val_loss: 11.1016\n",
            "Epoch 20/50\n",
            "59/59 [==============================] - 23s 389ms/step - loss: 10.3025 - val_loss: 9.3095\n",
            "Epoch 21/50\n",
            "59/59 [==============================] - 23s 387ms/step - loss: 8.6236 - val_loss: 7.5594\n",
            "Epoch 22/50\n",
            "59/59 [==============================] - 23s 387ms/step - loss: 6.9127 - val_loss: 5.4898\n",
            "Epoch 23/50\n",
            "59/59 [==============================] - 23s 388ms/step - loss: 5.2763 - val_loss: 4.0873\n",
            "Epoch 24/50\n",
            "59/59 [==============================] - 23s 389ms/step - loss: 3.9516 - val_loss: 2.6989\n",
            "Epoch 25/50\n",
            "59/59 [==============================] - 23s 387ms/step - loss: 2.7712 - val_loss: 1.5212\n",
            "Epoch 26/50\n",
            "59/59 [==============================] - 23s 389ms/step - loss: 2.0052 - val_loss: 1.0708\n",
            "Epoch 27/50\n",
            "59/59 [==============================] - 23s 388ms/step - loss: 1.4917 - val_loss: 0.9938\n",
            "Epoch 28/50\n",
            "59/59 [==============================] - 23s 388ms/step - loss: 1.2243 - val_loss: 0.6867\n",
            "Epoch 29/50\n",
            "59/59 [==============================] - 23s 388ms/step - loss: 0.9784 - val_loss: 0.6865\n",
            "Epoch 30/50\n",
            "59/59 [==============================] - 23s 388ms/step - loss: 0.7918 - val_loss: 0.6242\n",
            "Epoch 31/50\n",
            "59/59 [==============================] - 23s 387ms/step - loss: 0.7231 - val_loss: 0.5384\n",
            "Epoch 32/50\n",
            "59/59 [==============================] - 23s 387ms/step - loss: 0.5859 - val_loss: 0.4373\n",
            "Epoch 33/50\n",
            "59/59 [==============================] - 23s 386ms/step - loss: 0.5135 - val_loss: 0.3297\n",
            "Epoch 34/50\n",
            "59/59 [==============================] - 23s 388ms/step - loss: 0.4102 - val_loss: 0.3515\n",
            "Epoch 35/50\n",
            "59/59 [==============================] - 23s 388ms/step - loss: 0.4012 - val_loss: 0.2763\n",
            "Epoch 36/50\n",
            "59/59 [==============================] - 23s 389ms/step - loss: 0.3329 - val_loss: 0.3372\n",
            "Epoch 37/50\n",
            "59/59 [==============================] - 23s 392ms/step - loss: 0.2929 - val_loss: 0.4037\n",
            "Epoch 38/50\n",
            "59/59 [==============================] - 23s 390ms/step - loss: 0.2913 - val_loss: 0.2851\n",
            "Epoch 39/50\n",
            "59/59 [==============================] - 23s 389ms/step - loss: 0.1767 - val_loss: 0.1710\n",
            "Epoch 40/50\n",
            "59/59 [==============================] - 23s 390ms/step - loss: 0.2222 - val_loss: 0.2271\n",
            "Epoch 41/50\n",
            "59/59 [==============================] - 23s 392ms/step - loss: 0.2215 - val_loss: 0.1895\n",
            "Epoch 42/50\n",
            "59/59 [==============================] - 23s 394ms/step - loss: 0.1482 - val_loss: 0.1839\n",
            "Epoch 43/50\n",
            "59/59 [==============================] - 23s 397ms/step - loss: 0.1179 - val_loss: 0.1568\n",
            "Epoch 44/50\n",
            "59/59 [==============================] - 23s 397ms/step - loss: 0.1255 - val_loss: 0.1942\n",
            "Epoch 45/50\n",
            "59/59 [==============================] - 23s 393ms/step - loss: 0.0970 - val_loss: 0.1112\n",
            "Epoch 46/50\n",
            "59/59 [==============================] - 23s 393ms/step - loss: 0.1480 - val_loss: 0.0537\n",
            "Epoch 47/50\n",
            "59/59 [==============================] - 23s 392ms/step - loss: 0.1230 - val_loss: 0.1228\n",
            "Epoch 48/50\n",
            "59/59 [==============================] - 23s 394ms/step - loss: 0.0936 - val_loss: 0.1138\n",
            "Epoch 49/50\n",
            "59/59 [==============================] - 23s 388ms/step - loss: 0.0612 - val_loss: 0.1398\n",
            "Epoch 50/50\n",
            "59/59 [==============================] - 23s 391ms/step - loss: 0.0531 - val_loss: 0.0856\n"
          ]
        }
      ]
    },
    {
      "cell_type": "code",
      "metadata": {
        "trusted": true,
        "id": "yrVgJVuF0qhu",
        "colab": {
          "base_uri": "https://localhost:8080/"
        },
        "outputId": "8e4cc8de-a15a-4264-fdd8-aab4a62e4fc7"
      },
      "source": [
        "prediction_model = keras.models.Model(model.get_layer(name='input_data').input,\n",
        "                                        model.get_layer(name='dense2').output)\n",
        "prediction_model.summary()"
      ],
      "execution_count": 14,
      "outputs": [
        {
          "output_type": "stream",
          "name": "stdout",
          "text": [
            "Model: \"model\"\n",
            "_________________________________________________________________\n",
            " Layer (type)                Output Shape              Param #   \n",
            "=================================================================\n",
            " input_data (InputLayer)     [(None, 200, 50, 1)]      0         \n",
            "                                                                 \n",
            " Conv1 (Conv2D)              (None, 200, 50, 32)       320       \n",
            "                                                                 \n",
            " pool1 (MaxPooling2D)        (None, 100, 25, 32)       0         \n",
            "                                                                 \n",
            " Conv2 (Conv2D)              (None, 100, 25, 64)       18496     \n",
            "                                                                 \n",
            " pool2 (MaxPooling2D)        (None, 50, 12, 64)        0         \n",
            "                                                                 \n",
            " reshape (Reshape)           (None, 50, 768)           0         \n",
            "                                                                 \n",
            " dense1 (Dense)              (None, 50, 64)            49216     \n",
            "                                                                 \n",
            " dropout (Dropout)           (None, 50, 64)            0         \n",
            "                                                                 \n",
            " bidirectional (Bidirectiona  (None, 50, 256)          197632    \n",
            " l)                                                              \n",
            "                                                                 \n",
            " bidirectional_1 (Bidirectio  (None, 50, 128)          164352    \n",
            " nal)                                                            \n",
            "                                                                 \n",
            " dense2 (Dense)              (None, 50, 20)            2580      \n",
            "                                                                 \n",
            "=================================================================\n",
            "Total params: 432,596\n",
            "Trainable params: 432,596\n",
            "Non-trainable params: 0\n",
            "_________________________________________________________________\n"
          ]
        }
      ]
    },
    {
      "cell_type": "code",
      "metadata": {
        "trusted": true,
        "id": "fRSYA_i70qhu"
      },
      "source": [
        "# A utility to decode the output of the network\n",
        "def decode_batch_predictions(pred):\n",
        "    pred = pred[:, :-2]\n",
        "    input_len = np.ones(pred.shape[0])*pred.shape[1]\n",
        "    \n",
        "    # Use greedy search. For complex tasks, you can use beam search\n",
        "    results = keras.backend.ctc_decode(pred, \n",
        "                                        input_length=input_len,\n",
        "                                        greedy=True)[0][0]\n",
        "    \n",
        "    # Iterate over the results and get back the text\n",
        "    output_text = []\n",
        "    for res in results.numpy():\n",
        "        outstr = ''\n",
        "        for c in res:\n",
        "            if c < len(characters) and c >=0:\n",
        "                outstr += labels_to_char[c]\n",
        "        output_text.append(outstr)\n",
        "    \n",
        "    # return final text results\n",
        "    return output_text"
      ],
      "execution_count": 15,
      "outputs": []
    },
    {
      "cell_type": "code",
      "metadata": {
        "trusted": true,
        "id": "Xw60Y_qA0qhv",
        "colab": {
          "base_uri": "https://localhost:8080/"
        },
        "outputId": "2f79e854-7f12-41f9-9e62-6cb7e004bf75"
      },
      "source": [
        "#  Let's check results on some validation samples\n",
        "for p, (inp_value, _) in enumerate(valid_data_generator):\n",
        "    bs = inp_value['input_data'].shape[0]\n",
        "    X_data = inp_value['input_data']\n",
        "    labels = inp_value['input_label']\n",
        "    \n",
        "    preds = prediction_model.predict(X_data)\n",
        "    pred_texts = decode_batch_predictions(preds)\n",
        "    \n",
        "    \n",
        "    orig_texts = []\n",
        "    for label in labels:\n",
        "        text = ''.join([labels_to_char[int(x)] for x in label])\n",
        "        orig_texts.append(text)\n",
        "        \n",
        "    for i in range(bs):\n",
        "        print(f'Ground truth: {orig_texts[i]} \\t Predicted: {pred_texts[i]}')\n",
        "    break"
      ],
      "execution_count": 16,
      "outputs": [
        {
          "output_type": "stream",
          "name": "stdout",
          "text": [
            "Ground truth: x3fwf \t Predicted: x3fwf\n",
            "Ground truth: wxy4n \t Predicted: wxy4n\n",
            "Ground truth: 2nf26 \t Predicted: 2nf26\n",
            "Ground truth: befbd \t Predicted: befbd\n",
            "Ground truth: e43ym \t Predicted: e43ym\n",
            "Ground truth: 823p2 \t Predicted: 823p2\n",
            "Ground truth: 42nxy \t Predicted: 42nxy\n",
            "Ground truth: pwn5e \t Predicted: pwn5e\n",
            "Ground truth: 5f3gf \t Predicted: 5f3gf\n",
            "Ground truth: 8e32m \t Predicted: 8e32m\n",
            "Ground truth: nbfx5 \t Predicted: nbfx5\n",
            "Ground truth: nxx25 \t Predicted: nxx25\n",
            "Ground truth: 56c34 \t Predicted: 56c34\n",
            "Ground truth: p8c24 \t Predicted: p8c24\n",
            "Ground truth: 5nm6d \t Predicted: 5nm6d\n",
            "Ground truth: dw8d3 \t Predicted: dw8d3\n"
          ]
        }
      ]
    },
    {
      "cell_type": "markdown",
      "metadata": {
        "id": "hULKvoi-0qhv"
      },
      "source": [
        "**Please upvote if you liked the notebook.**"
      ]
    },
    {
      "cell_type": "code",
      "metadata": {
        "colab": {
          "base_uri": "https://localhost:8080/",
          "height": 279
        },
        "id": "FGQ_IxoMPUDC",
        "outputId": "c194848c-e3dd-4838-dbdc-b4ad597539a2"
      },
      "source": [
        "# Path to the data directory\n",
        "data_dir = Path(\"/content/drive/MyDrive/OCR Tensorflow/test\")\n",
        "# Get list of all the images\n",
        "images = list(data_dir.glob(\"*.jpeg\"))\n",
        "print(\"Number of images found: \", len(images))\n",
        "\n",
        "\n",
        "# Let's take a look at some samples first. \n",
        "# Always look at your data!\n",
        "sample_images = images[0:]\n",
        "\n",
        "_,ax = plt.subplots(2,2, figsize=(5,3))\n",
        "for i in range(4):\n",
        "    img = cv2.imread(str(sample_images[i]))\n",
        "    print(\"Shape of image: \", img.shape)\n",
        "    ax[i//2, i%2].imshow(img)\n",
        "    ax[i//2, i%2].axis('off')\n",
        "plt.show()"
      ],
      "execution_count": 22,
      "outputs": [
        {
          "output_type": "stream",
          "name": "stdout",
          "text": [
            "Number of images found:  4\n",
            "Shape of image:  (370, 480, 3)\n",
            "Shape of image:  (480, 620, 3)\n",
            "Shape of image:  (506, 800, 3)\n",
            "Shape of image:  (590, 1200, 3)\n"
          ]
        },
        {
          "output_type": "display_data",
          "data": {
            "image/png": "[encoded data removed]",
            "text/plain": [
              "<Figure size 360x216 with 4 Axes>"
            ]
          },
          "metadata": {
            "needs_background": "light"
          }
        }
      ]
    },
    {
      "cell_type": "code",
      "metadata": {
        "colab": {
          "base_uri": "https://localhost:8080/",
          "height": 241
        },
        "id": "hLU74OSDPmMS",
        "outputId": "9b814a0d-89bd-4fb1-871f-bdb4312b8f5d"
      },
      "source": [
        "# Store all the characters in a set\n",
        "characters = set()\n",
        "\n",
        "# A list to store the length of each captcha\n",
        "captcha_length = []\n",
        "\n",
        "# Store image-label info\n",
        "dataset = []\n",
        "\n",
        "# Iterate over the dataset and store the\n",
        "# information needed\n",
        "for img_path in images:\n",
        "    # 1. Get the label associated with each image\n",
        "    label = img_path.name.split(\".jpeg\")[0]\n",
        "    # 2. Store the length of this cpatcha\n",
        "    captcha_length.append(len(label))\n",
        "    # 3. Store the image-label pair info\n",
        "    dataset.append((str(img_path), label))\n",
        "    \n",
        "    # 4. Store the characters present\n",
        "    for ch in label:\n",
        "        characters.add(ch)\n",
        "\n",
        "# Sort the characters        \n",
        "characters = sorted(characters)\n",
        "\n",
        "# Convert the dataset info into a dataframe\n",
        "dataset = pd.DataFrame(dataset, columns=[\"img_path\", \"label\"], index=None)\n",
        "\n",
        "# Shuffle the dataset\n",
        "dataset = dataset.sample(frac=1.).reset_index(drop=True)\n",
        "\n",
        "\n",
        "print(\"Number of unqiue charcaters in the whole dataset: \", len(characters))\n",
        "print(\"Maximum length of any captcha: \", max(Counter(captcha_length).keys()))\n",
        "print(\"Characters present: \", characters)\n",
        "print(\"Total number of samples in the dataset: \", len(dataset))\n",
        "dataset.head()"
      ],
      "execution_count": 23,
      "outputs": [
        {
          "output_type": "stream",
          "name": "stdout",
          "text": [
            "Number of unqiue charcaters in the whole dataset:  7\n",
            "Maximum length of any captcha:  5\n",
            "Characters present:  ['3', '4', '5', 'h', 'o', 's', 't']\n",
            "Total number of samples in the dataset:  4\n"
          ]
        },
        {
          "output_type": "execute_result",
          "data": {
            "text/html": [
              "<div>\n",
              "<style scoped>\n",
              "    .dataframe tbody tr th:only-of-type {\n",
              "        vertical-align: middle;\n",
              "    }\n",
              "\n",
              "    .dataframe tbody tr th {\n",
              "        vertical-align: top;\n",
              "    }\n",
              "\n",
              "    .dataframe thead th {\n",
              "        text-align: right;\n",
              "    }\n",
              "</style>\n",
              "<table border=\"1\" class=\"dataframe\">\n",
              "  <thead>\n",
              "    <tr style=\"text-align: right;\">\n",
              "      <th></th>\n",
              "      <th>img_path</th>\n",
              "      <th>label</th>\n",
              "    </tr>\n",
              "  </thead>\n",
              "  <tbody>\n",
              "    <tr>\n",
              "      <th>0</th>\n",
              "      <td>/content/drive/MyDrive/OCR Tensorflow/test/sho...</td>\n",
              "      <td>shot4</td>\n",
              "    </tr>\n",
              "    <tr>\n",
              "      <th>1</th>\n",
              "      <td>/content/drive/MyDrive/OCR Tensorflow/test/sho...</td>\n",
              "      <td>shot5</td>\n",
              "    </tr>\n",
              "    <tr>\n",
              "      <th>2</th>\n",
              "      <td>/content/drive/MyDrive/OCR Tensorflow/test/sho...</td>\n",
              "      <td>shot</td>\n",
              "    </tr>\n",
              "    <tr>\n",
              "      <th>3</th>\n",
              "      <td>/content/drive/MyDrive/OCR Tensorflow/test/sho...</td>\n",
              "      <td>shot3</td>\n",
              "    </tr>\n",
              "  </tbody>\n",
              "</table>\n",
              "</div>"
            ],
            "text/plain": [
              "                                            img_path  label\n",
              "0  /content/drive/MyDrive/OCR Tensorflow/test/sho...  shot4\n",
              "1  /content/drive/MyDrive/OCR Tensorflow/test/sho...  shot5\n",
              "2  /content/drive/MyDrive/OCR Tensorflow/test/sho...   shot\n",
              "3  /content/drive/MyDrive/OCR Tensorflow/test/sho...  shot3"
            ]
          },
          "metadata": {},
          "execution_count": 23
        }
      ]
    },
    {
      "cell_type": "code",
      "metadata": {
        "id": "geYjEmWIQfcG"
      },
      "source": [
        "# A utility to decode the output of the network\n",
        "def decode_batch_predictions(pred):\n",
        "    pred = pred\n",
        "    input_len = np.ones(pred.shape[0])*pred.shape[1]\n",
        "    \n",
        "    # Use greedy search. For complex tasks, you can use beam search\n",
        "    results = keras.backend.ctc_decode(pred, \n",
        "                                        input_length=input_len,\n",
        "                                        greedy=True)[0][0]\n",
        "    \n",
        "    # Iterate over the results and get back the text\n",
        "    output_text = []\n",
        "    for res in results.numpy():\n",
        "        outstr = ''\n",
        "        for c in res:\n",
        "            if c < len(characters) and c >=0:\n",
        "                outstr += labels_to_char[c]\n",
        "        output_text.append(outstr)\n",
        "    \n",
        "    # return final text results\n",
        "    return output_text"
      ],
      "execution_count": 26,
      "outputs": []
    },
    {
      "cell_type": "code",
      "metadata": {
        "id": "SuiVVb15Q0tz"
      },
      "source": [
        ""
      ],
      "execution_count": null,
      "outputs": []
    }
  ]
}